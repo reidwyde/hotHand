{
 "cells": [
  {
   "cell_type": "code",
   "execution_count": 4,
   "metadata": {},
   "outputs": [],
   "source": [
    "import pandas as pd\n",
    "\n",
    "import os\n",
    "\n",
    "\n"
   ]
  },
  {
   "cell_type": "code",
   "execution_count": 5,
   "metadata": {},
   "outputs": [
    {
     "name": "stdout",
     "output_type": "stream",
     "text": [
      "['Players.csv', 'player_data.csv', 'Seasons_Stats.csv', 'shot_logs.csv']\n"
     ]
    }
   ],
   "source": [
    "datasets = os.listdir(\"datasets\")\n",
    "print(datasets)"
   ]
  },
  {
   "cell_type": "code",
   "execution_count": 20,
   "metadata": {},
   "outputs": [
    {
     "name": "stdout",
     "output_type": "stream",
     "text": [
      "   Unnamed: 0           Player  height  weight  \\\n",
      "0           0  Curly Armstrong   180.0    77.0   \n",
      "1           1     Cliff Barker   188.0    83.0   \n",
      "2           2    Leo Barnhorst   193.0    86.0   \n",
      "3           3       Ed Bartels   196.0    88.0   \n",
      "4           4      Ralph Beard   178.0    79.0   \n",
      "\n",
      "                           collage    born   birth_city birth_state  \n",
      "0               Indiana University  1918.0          NaN         NaN  \n",
      "1           University of Kentucky  1921.0     Yorktown     Indiana  \n",
      "2         University of Notre Dame  1924.0          NaN         NaN  \n",
      "3  North Carolina State University  1925.0          NaN         NaN  \n",
      "4           University of Kentucky  1927.0  Hardinsburg    Kentucky  \n",
      "Unnamed: 0  Player  height  weight  collage  born  birth_city  birth_state                    name  year_start  year_end position height  weight  \\\n",
      "0       Alaa Abdelnaby        1991      1995      F-C   6-10   240.0   \n",
      "1      Zaid Abdul-Aziz        1969      1978      C-F    6-9   235.0   \n",
      "2  Kareem Abdul-Jabbar        1970      1989        C    7-2   225.0   \n",
      "3   Mahmoud Abdul-Rauf        1991      2001        G    6-1   162.0   \n",
      "4    Tariq Abdul-Wahad        1998      2003        F    6-6   223.0   \n",
      "\n",
      "         birth_date                                college  \n",
      "0     June 24, 1968                        Duke University  \n",
      "1     April 7, 1946                  Iowa State University  \n",
      "2    April 16, 1947  University of California, Los Angeles  \n",
      "3     March 9, 1969             Louisiana State University  \n",
      "4  November 3, 1974              San Jose State University  \n",
      "name  year_start  year_end  position  height  weight  birth_date  college     Unnamed: 0    Year           Player  Pos   Age   Tm     G  GS  MP  PER  \\\n",
      "0           0  1950.0  Curly Armstrong  G-F  31.0  FTW  63.0 NaN NaN  NaN   \n",
      "1           1  1950.0     Cliff Barker   SG  29.0  INO  49.0 NaN NaN  NaN   \n",
      "2           2  1950.0    Leo Barnhorst   SF  25.0  CHS  67.0 NaN NaN  NaN   \n",
      "3           3  1950.0       Ed Bartels    F  24.0  TOT  15.0 NaN NaN  NaN   \n",
      "4           4  1950.0       Ed Bartels    F  24.0  DNN  13.0 NaN NaN  NaN   \n",
      "\n",
      "   ...      FT%  ORB  DRB  TRB    AST  STL  BLK  TOV     PF    PTS  \n",
      "0  ...    0.705  NaN  NaN  NaN  176.0  NaN  NaN  NaN  217.0  458.0  \n",
      "1  ...    0.708  NaN  NaN  NaN  109.0  NaN  NaN  NaN   99.0  279.0  \n",
      "2  ...    0.698  NaN  NaN  NaN  140.0  NaN  NaN  NaN  192.0  438.0  \n",
      "3  ...    0.559  NaN  NaN  NaN   20.0  NaN  NaN  NaN   29.0   63.0  \n",
      "4  ...    0.548  NaN  NaN  NaN   20.0  NaN  NaN  NaN   27.0   59.0  \n",
      "\n",
      "[5 rows x 53 columns]\n",
      "Unnamed: 0  Year  Player  Pos  Age  Tm  G  GS  MP  PER  TS%  3PAr  FTr  ORB%  DRB%  TRB%  AST%  STL%  BLK%  TOV%  USG%  blanl  OWS  DWS  WS  WS/48  blank2  OBPM  DBPM  BPM  VORP  FG  FGA  FG%  3P  3PA  3P%  2P  2PA  2P%  eFG%  FT  FTA  FT%  ORB  DRB  TRB  AST  STL  BLK  TOV  PF  PTS      GAME_ID                   MATCHUP LOCATION  W  FINAL_MARGIN  SHOT_NUMBER  \\\n",
      "0  21400899  MAR 04, 2015 - CHA @ BKN        A  W            24            1   \n",
      "1  21400899  MAR 04, 2015 - CHA @ BKN        A  W            24            2   \n",
      "2  21400899  MAR 04, 2015 - CHA @ BKN        A  W            24            3   \n",
      "3  21400899  MAR 04, 2015 - CHA @ BKN        A  W            24            4   \n",
      "4  21400899  MAR 04, 2015 - CHA @ BKN        A  W            24            5   \n",
      "\n",
      "   PERIOD GAME_CLOCK  SHOT_CLOCK  DRIBBLES    ...     SHOT_DIST  PTS_TYPE  \\\n",
      "0       1       1:09        10.8         2    ...           7.7         2   \n",
      "1       1       0:14         3.4         0    ...          28.2         3   \n",
      "2       1       0:00         NaN         3    ...          10.1         2   \n",
      "3       2      11:47        10.3         2    ...          17.2         2   \n",
      "4       2      10:34        10.9         2    ...           3.7         2   \n",
      "\n",
      "   SHOT_RESULT   CLOSEST_DEFENDER CLOSEST_DEFENDER_PLAYER_ID  CLOSE_DEF_DIST  \\\n",
      "0         made     Anderson, Alan                     101187             1.3   \n",
      "1       missed  Bogdanovic, Bojan                     202711             6.1   \n",
      "2       missed  Bogdanovic, Bojan                     202711             0.9   \n",
      "3       missed      Brown, Markel                     203900             3.4   \n",
      "4       missed    Young, Thaddeus                     201152             1.1   \n",
      "\n",
      "   FGM  PTS    player_name player_id  \n",
      "0    1    2  brian roberts    203148  \n",
      "1    0    0  brian roberts    203148  \n",
      "2    0    0  brian roberts    203148  \n",
      "3    0    0  brian roberts    203148  \n",
      "4    0    0  brian roberts    203148  \n",
      "\n",
      "[5 rows x 21 columns]\n",
      "GAME_ID  MATCHUP  LOCATION  W  FINAL_MARGIN  SHOT_NUMBER  PERIOD  GAME_CLOCK  SHOT_CLOCK  DRIBBLES  TOUCH_TIME  SHOT_DIST  PTS_TYPE  SHOT_RESULT  CLOSEST_DEFENDER  CLOSEST_DEFENDER_PLAYER_ID  CLOSE_DEF_DIST  FGM  PTS  player_name  player_id  "
     ]
    }
   ],
   "source": [
    "for table in datasets:\n",
    "    \n",
    "    this_table = pd.read_csv(\"datasets//\" + str(table))\n",
    "    print(this_table.head())\n",
    "    for col in this_table:\n",
    "        print(col, end = \"  \")\n"
   ]
  },
  {
   "cell_type": "code",
   "execution_count": null,
   "metadata": {
    "collapsed": true
   },
   "outputs": [],
   "source": []
  }
 ],
 "metadata": {
  "kernelspec": {
   "display_name": "Python 3",
   "language": "python",
   "name": "python3"
  },
  "language_info": {
   "codemirror_mode": {
    "name": "ipython",
    "version": 3
   },
   "file_extension": ".py",
   "mimetype": "text/x-python",
   "name": "python",
   "nbconvert_exporter": "python",
   "pygments_lexer": "ipython3",
   "version": "3.6.7"
  }
 },
 "nbformat": 4,
 "nbformat_minor": 2
}
